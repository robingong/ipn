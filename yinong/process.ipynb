{
 "cells": [
  {
   "cell_type": "code",
   "execution_count": 166,
   "metadata": {
    "collapsed": false
   },
   "outputs": [
    {
     "name": "stdout",
     "output_type": "stream",
     "text": [
      "6181\n"
     ]
    }
   ],
   "source": [
    "import pandas as pd\n",
    "import numpy as np\n",
    "\n",
    "prefix = 'cards_balance_20160705'\n",
    "endDate = '2016-5-5 00:00:00'\n",
    "\n",
    "data = pd.read_csv(prefix+'.csv' ,encoding=\"gbk\")\n",
    "print len(data) # 6181"
   ]
  },
  {
   "cell_type": "code",
   "execution_count": 167,
   "metadata": {
    "collapsed": false
   },
   "outputs": [
    {
     "name": "stdout",
     "output_type": "stream",
     "text": [
      "342\n"
     ]
    }
   ],
   "source": [
    "'''\n",
    "计算银行卡数量异常\n",
    "规则：\n",
    "    加盟日期在 60天前，发卡数量小于10 或 发卡数量大于2000的\n",
    "    正式运营的\n",
    "'''\n",
    "cardErr = data.loc[ ( (data[u'站点加盟日期']<endDate) & ( (data[u'站点卡数']<=10) | (data[u'站点卡数']>2000) ) \n",
    "                   &(data[u'标签']==u'正式运营')\n",
    "                    )\n",
    "                  #,[u'站点卡数'] \n",
    "                  ]\n",
    "\n",
    "#cardErr.describe()\n",
    "print len(cardErr) # 1487\n",
    "cardErr.to_csv(prefix+'cardErr'+'.csv',encoding=\"gbk\")"
   ]
  },
  {
   "cell_type": "code",
   "execution_count": 168,
   "metadata": {
    "collapsed": false
   },
   "outputs": [
    {
     "name": "stdout",
     "output_type": "stream",
     "text": [
      "58\n"
     ]
    }
   ],
   "source": [
    "'''\n",
    "计算 站点余额 数量异常\n",
    "规则：\n",
    "    加盟日期在 60天前，站点余额 数量小于100 或 发卡数量大于 50000000 五千万 的\n",
    "'''\n",
    "\n",
    "#先看看大概\n",
    "balanceErr = data.loc[ ( (data[u'站点加盟日期']<endDate) & ( (data[u'站点余额']<=100) | (data[u'站点余额']>50000000) ) \n",
    "                        &(data[u'标签']==u'正式运营')\n",
    "                       )\n",
    "                  ]\n",
    "\n",
    "#cardErr.describe()\n",
    "print len(balanceErr) #1074(如果算'正式运营'的话，只有51) , 其中 小于10的有1051;\n",
    "balanceErr\n",
    "balanceErr.to_csv(prefix+'balanceErr'+'.csv',encoding=\"gbk\")"
   ]
  },
  {
   "cell_type": "code",
   "execution_count": 169,
   "metadata": {
    "collapsed": false
   },
   "outputs": [
    {
     "name": "stdout",
     "output_type": "stream",
     "text": [
      "14\n"
     ]
    }
   ],
   "source": [
    "'''\n",
    "计算 卡均余额 数量异常\n",
    "规则：\n",
    "    加盟日期在 60天前，卡均余额 数量小于100 或 无数据'\\N'\n",
    "'''\n",
    "\n",
    "#先看看大概\n",
    "# \n",
    "avgBalanceErr = data.loc[ ( (data[u'站点加盟日期']<endDate) & ( (data[u'卡均余额']<=100) | (data[u'卡均余额']=='\\N') ) \n",
    "                          #&(data[u'标签']==u'正式运营')\n",
    "                          )\n",
    "                  #,[u'站点卡数'] \n",
    "                  ]\n",
    "\n",
    "print len(avgBalanceErr.count()) #14 ,其中'正式运营' 只有 14\n",
    "#avbBalanceErr\n",
    "avgBalanceErr.to_csv(prefix+'avgBalanceErr'+'.csv',encoding=\"gbk\")"
   ]
  },
  {
   "cell_type": "code",
   "execution_count": 170,
   "metadata": {
    "collapsed": false
   },
   "outputs": [
    {
     "name": "stdout",
     "output_type": "stream",
     "text": [
      "NOT 1<总人口数/户数<8：   206 \n"
     ]
    },
    {
     "name": "stderr",
     "output_type": "stream",
     "text": [
      "C:\\Anaconda2\\lib\\site-packages\\ipykernel\\__main__.py:17: SettingWithCopyWarning: \n",
      "A value is trying to be set on a copy of a slice from a DataFrame.\n",
      "Try using .loc[row_indexer,col_indexer] = value instead\n",
      "\n",
      "See the caveats in the documentation: http://pandas.pydata.org/pandas-docs/stable/indexing.html#indexing-view-versus-copy\n"
     ]
    }
   ],
   "source": [
    "'''\n",
    "计算 户数 总人口数 数量异常\n",
    "规则：\n",
    "    加盟日期在 60天前，1< 总人口数/户数<8\n",
    "\n",
    "'''\n",
    "\n",
    "temp = data.loc[((data[u'站点加盟日期']<endDate) & ( data[u'户数']!='\\N') & (data[u'总人口数']!='\\N') )]\n",
    "\n",
    "'''\n",
    "户数                  object\n",
    "总人口数              object\n",
    "'''\n",
    "temp[[u'户数',u'总人口数']] = temp[[u'户数',u'总人口数']].astype(float)\n",
    "temp.dtypes\n",
    "#赋值\n",
    "temp['t'] = temp[u'总人口数'] / temp[u'户数']\n",
    "'''\n",
    "C:\\Anaconda2\\lib\\site-packages\\ipykernel\\__main__.py:11: SettingWithCopyWarning: \n",
    "A value is trying to be set on a copy of a slice from a DataFrame.\n",
    "Try using .loc[row_indexer,col_indexer] = value instead\n",
    "'''\n",
    "#temp.loc[:,14]  = temp[u'总人口数'] / temp[u'户数']\n",
    "temp.describe()# 先看看 temp[u'总人口数'] / temp[u'户数'] 的数值分布\n",
    "\n",
    "familyAvgErr = temp.loc[ ( (temp[u't']<2 )| (temp[u't']>8 ))\n",
    "                  ]\n",
    "print \"NOT 1<总人口数/户数<8：   %d \" % len(familyAvgErr.index) \n",
    "familyAvgErr.to_csv(prefix+'familyAvgErr'+'.csv',encoding=\"gbk\")#206"
   ]
  },
  {
   "cell_type": "code",
   "execution_count": 171,
   "metadata": {
    "collapsed": false
   },
   "outputs": [
    {
     "name": "stdout",
     "output_type": "stream",
     "text": [
      "NOT 100<=户数<=5000：   89 \n"
     ]
    }
   ],
   "source": [
    "'''\n",
    "计算 户数 数量异常\n",
    "规则：\n",
    "    加盟日期在 60天前，100<=户数<=5000\n",
    "'''\n",
    "ttt = data.loc[( (data[u'站点加盟日期']<endDate) \n",
    "                & ( data[u'户数']!='\\N')\n",
    "                &(data[u'标签']==u'正式运营')\n",
    "               )]\n",
    "ttt[[u'户数',u'总人口数']] = ttt[[u'户数',u'总人口数']].astype(float)\n",
    "\n",
    "ttt.dtypes\n",
    "\n",
    "familyErr = ttt.loc[ ( (ttt[u'站点加盟日期']<endDate) & ( ( ttt[u'户数']>5000 ) | ( ttt[u'户数']<100 ))\n",
    "                      #&(ttt[u'标签']==u'正式运营')\n",
    "                      )\n",
    "                  #,[u'站点卡数'] \n",
    "                  ]\n",
    "\n",
    "print \"NOT 100<=户数<=5000：   %d \" % len(familyErr)\n",
    "familyErr \n",
    "familyErr.to_csv(prefix+'familyErr'+'.csv',encoding=\"gbk\")"
   ]
  },
  {
   "cell_type": "code",
   "execution_count": 172,
   "metadata": {
    "collapsed": false
   },
   "outputs": [
    {
     "name": "stdout",
     "output_type": "stream",
     "text": [
      "NOT 100<=总人口数<=5000：   119 \n"
     ]
    }
   ],
   "source": [
    "'''\n",
    "计算 户数 总人口数 数量异常\n",
    "规则：\n",
    "    加盟日期在 60天前，400<=总人口数<=30000\n",
    "'''\n",
    "ppp = data.loc[( (data[u'站点加盟日期']<endDate) & (data[u'总人口数']!='\\N')\n",
    "               #&(data[u'标签']==u'正式运营')\n",
    "               )]\n",
    "ppp[[u'户数',u'总人口数']] = ppp[[u'户数',u'总人口数']].astype(float)\n",
    "\n",
    "ppp.dtypes\n",
    "\n",
    "populationErr = ppp.loc[( (ppp[u'总人口数']<400) | (ppp[u'总人口数']>30000)) ]\n",
    "\n",
    "print \"NOT 100<=总人口数<=5000：   %d \" % len(populationErr) #119\n",
    "\n",
    "populationErr.to_csv(prefix+'populationErr'+'.csv',encoding=\"gbk\")"
   ]
  },
  {
   "cell_type": "code",
   "execution_count": 173,
   "metadata": {
    "collapsed": false
   },
   "outputs": [
    {
     "name": "stdout",
     "output_type": "stream",
     "text": [
      "全部网点数：        4859 \n",
      "正式运营 网点数：   3121 \n",
      "企业 网点数：       6 \n",
      "非正式运营 网点数： 746 \n",
      "虚拟 网点数：       2 \n",
      "无数据 网点数:      981 \n",
      "其他 网点数:        3 \n"
     ]
    },
    {
     "data": {
      "text/plain": [
       "'\\n\\xe5\\x85\\xa8\\xe9\\x83\\xa8\\xe7\\xbd\\x91\\xe7\\x82\\xb9\\xe6\\x95\\xb0\\xef\\xbc\\x9a        4859 \\n\\xe6\\xad\\xa3\\xe5\\xbc\\x8f\\xe8\\xbf\\x90\\xe8\\x90\\xa5 \\xe7\\xbd\\x91\\xe7\\x82\\xb9\\xe6\\x95\\xb0\\xef\\xbc\\x9a   3121 \\n\\xe4\\xbc\\x81\\xe4\\xb8\\x9a \\xe7\\xbd\\x91\\xe7\\x82\\xb9\\xe6\\x95\\xb0\\xef\\xbc\\x9a       6 \\n\\xe9\\x9d\\x9e\\xe6\\xad\\xa3\\xe5\\xbc\\x8f\\xe8\\xbf\\x90\\xe8\\x90\\xa5 \\xe7\\xbd\\x91\\xe7\\x82\\xb9\\xe6\\x95\\xb0\\xef\\xbc\\x9a 746 \\n\\xe8\\x99\\x9a\\xe6\\x8b\\x9f \\xe7\\xbd\\x91\\xe7\\x82\\xb9\\xe6\\x95\\xb0\\xef\\xbc\\x9a       2 \\n\\xe6\\x97\\xa0\\xe6\\x95\\xb0\\xe6\\x8d\\xae \\xe7\\xbd\\x91\\xe7\\x82\\xb9\\xe6\\x95\\xb0:      981 \\n\\xe5\\x85\\xb6\\xe4\\xbb\\x96 \\xe7\\xbd\\x91\\xe7\\x82\\xb9\\xe6\\x95\\xb0:        3 \\n'"
      ]
     },
     "execution_count": 173,
     "metadata": {},
     "output_type": "execute_result"
    }
   ],
   "source": [
    "#data.sort_values(by=u'站点卡数')\n",
    "\n",
    "#~企业，非正式运营，无数据，虚拟, 无数据，其他\n",
    "okNode = data.loc[(data[u'站点加盟日期']<endDate)&(data[u'标签']==u'正式运营')\n",
    "                   ]\n",
    "entNode = data.loc[(data[u'站点加盟日期']<endDate)&(data[u'标签']==u'企业')\n",
    "                   ]\n",
    "notOkNode = data.loc[(data[u'站点加盟日期']<endDate)&(data[u'标签']==u'非正式运营')\n",
    "                   ] \n",
    "virNode = data.loc[(data[u'站点加盟日期']<endDate)&(data[u'标签']==u'虚拟')\n",
    "                   ] \n",
    "noDataNode = data.loc[(data[u'站点加盟日期']<endDate)&(data[u'标签']==u'无数据')\n",
    "                   ] \n",
    "otherNode = data.loc[(data[u'站点加盟日期']<endDate)&(data[u'标签']==u'其他')\n",
    "                   ] \n",
    "#okNode.to_csv(prefix+'cardErr'+'.csv',encoding=\"gbk\")\n",
    "print \"全部网点数：        %d \" % len(data[(data[u'站点加盟日期']<endDate)].index)\n",
    "print \"正式运营 网点数：   %d \" % len(okNode.index) \n",
    "print \"企业 网点数：       %d \" % len(entNode.index)\n",
    "print \"非正式运营 网点数： %d \" % len(notOkNode.index) \n",
    "print \"虚拟 网点数：       %d \" % len(virNode.index)\n",
    "print \"无数据 网点数:      %d \" % len(noDataNode.index)\n",
    "print \"其他 网点数:        %d \" % len(otherNode.index)\n",
    "'''\n",
    "全部网点数：        4859 \n",
    "正式运营 网点数：   3121 \n",
    "企业 网点数：       6 \n",
    "非正式运营 网点数： 746 \n",
    "虚拟 网点数：       2 \n",
    "无数据 网点数:      981 \n",
    "其他 网点数:        3 \n",
    "'''"
   ]
  },
  {
   "cell_type": "code",
   "execution_count": null,
   "metadata": {
    "collapsed": true
   },
   "outputs": [],
   "source": []
  }
 ],
 "metadata": {
  "anaconda-cloud": {},
  "kernelspec": {
   "display_name": "Python [Root]",
   "language": "python",
   "name": "Python [Root]"
  },
  "language_info": {
   "codemirror_mode": {
    "name": "ipython",
    "version": 2
   },
   "file_extension": ".py",
   "mimetype": "text/x-python",
   "name": "python",
   "nbconvert_exporter": "python",
   "pygments_lexer": "ipython2",
   "version": "2.7.12"
  }
 },
 "nbformat": 4,
 "nbformat_minor": 0
}
