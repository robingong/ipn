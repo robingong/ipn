{
 "cells": [
  {
   "cell_type": "code",
   "execution_count": 6,
   "metadata": {
    "collapsed": false
   },
   "outputs": [
    {
     "data": {
      "text/plain": [
       "pandas.core.frame.DataFrame"
      ]
     },
     "execution_count": 6,
     "metadata": {},
     "output_type": "execute_result"
    }
   ],
   "source": [
    "import seaborn as sns\n",
    "import matplotlib.pyplot as plt \n",
    "\n",
    "\n",
    "sns.set(style=\"ticks\")\n",
    "\n",
    "# Load the example dataset for Anscombe's quartet\n",
    "df = sns.load_dataset(\"anscombe\")\n",
    "\n",
    "type(df)"
   ]
  },
  {
   "cell_type": "code",
   "execution_count": null,
   "metadata": {
    "collapsed": true
   },
   "outputs": [],
   "source": [
    "# Show the results of a linear regression within each dataset\n",
    "sns.lmplot(x=\"x\", y=\"y\", col=\"dataset\", hue=\"dataset\", data=df,\n",
    "           col_wrap=2, ci=None, palette=\"muted\", size=4,\n",
    "           scatter_kws={\"s\": 50, \"alpha\": 1})\n",
    "plt.show()"
   ]
  },
  {
   "cell_type": "code",
   "execution_count": 9,
   "metadata": {
    "collapsed": false
   },
   "outputs": [],
   "source": [
    "#等高线 图\n",
    "import matplotlib.pyplot as plt\n",
    "import numpy as np\n",
    "dx = 0.01; dy = 0.01\n",
    "x = np.arange(-2.0,2.0,dx)\n",
    "y = np.arange(-2.0,2.0,dy)\n",
    "X,Y = np.meshgrid(x,y)\n",
    "def f(x,y):\n",
    "    return (1 - y**5 + x**5)*np.exp(-x**2-y**2)\n",
    "\n",
    "C = plt.contour(X,Y,f(X,Y),8,colors='black')\n",
    "plt.contourf(X,Y,f(X,Y),8)\n",
    "plt.clabel(C, inline=1, fontsize=10)\n",
    "plt.show()"
   ]
  },
  {
   "cell_type": "code",
   "execution_count": 12,
   "metadata": {
    "collapsed": true
   },
   "outputs": [],
   "source": [
    "dx = 0.01; dy = 0.01\n",
    "x = np.arange(-2.0,2.0,dx)\n",
    "y = np.arange(-2.0,2.0,dy)\n",
    "X,Y = np.meshgrid(x,y)\n",
    "\n",
    "C = plt.contour(X,Y,f(X,Y),8,colors='black')\n",
    "plt.contourf(X,Y,f(X,Y),8,cmap=plt.cm.hot)\n",
    "plt.clabel(C, inline=1, fontsize=10)\n",
    "\n",
    "plt.colorbar() # 数据标识\n",
    "\n",
    "plt.show()"
   ]
  },
  {
   "cell_type": "code",
   "execution_count": 13,
   "metadata": {
    "collapsed": true
   },
   "outputs": [],
   "source": [
    "#雷达图\n",
    "N = 8\n",
    "theta = np.arange(0.,2 * np.pi, 2 * np.pi / N)\n",
    "radii = np.array([4,7,5,3,1,5,6,7])\n",
    "plt.axes([0.025, 0.025, 0.95, 0.95], polar=True)\n",
    "colors = np.array(['#4bb2c5', '#c5b47f', '#EAA228', '#579575', \n",
    "                   '#839557', '#958c12','#953579', '#4b5de4'])\n",
    "bars = plt.bar(theta, radii, width=(2*np.pi/N), bottom=0.0, color=colors)\n",
    "plt.show()"
   ]
  },
  {
   "cell_type": "code",
   "execution_count": 14,
   "metadata": {
    "collapsed": true
   },
   "outputs": [],
   "source": [
    "from mpl_toolkits.mplot3d import Axes3D"
   ]
  },
  {
   "cell_type": "code",
   "execution_count": 16,
   "metadata": {
    "collapsed": true
   },
   "outputs": [],
   "source": [
    "import matplotlib.pyplot as plt\n",
    "fig = plt.figure()\n",
    "ax = Axes3D(fig)\n",
    "X = np.arange(-2,2,0.1)\n",
    "Y = np.arange(-2,2,0.1)\n",
    "X,Y = np.meshgrid(X,Y)\n",
    "def f(x,y):\n",
    "    return (1 - y**5 + x**5)*np.exp(-x**2-y**2)\n",
    "\n",
    "ax.plot_surface(X,Y,f(X,Y), rstride=1, cstride=1)\n",
    "\n",
    "plt.show()"
   ]
  },
  {
   "cell_type": "code",
   "execution_count": null,
   "metadata": {
    "collapsed": true
   },
   "outputs": [],
   "source": []
  }
 ],
 "metadata": {
  "anaconda-cloud": {},
  "kernelspec": {
   "display_name": "Python [Root]",
   "language": "python",
   "name": "Python [Root]"
  },
  "language_info": {
   "codemirror_mode": {
    "name": "ipython",
    "version": 2
   },
   "file_extension": ".py",
   "mimetype": "text/x-python",
   "name": "python",
   "nbconvert_exporter": "python",
   "pygments_lexer": "ipython2",
   "version": "2.7.12"
  }
 },
 "nbformat": 4,
 "nbformat_minor": 0
}
