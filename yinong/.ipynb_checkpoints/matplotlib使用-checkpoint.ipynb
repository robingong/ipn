{
 "cells": [
  {
   "cell_type": "code",
   "execution_count": 6,
   "metadata": {
    "collapsed": false
   },
   "outputs": [
    {
     "data": {
      "text/plain": [
       "pandas.core.frame.DataFrame"
      ]
     },
     "execution_count": 6,
     "metadata": {},
     "output_type": "execute_result"
    }
   ],
   "source": [
    "import seaborn as sns\n",
    "import matplotlib.pyplot as plt \n",
    "\n",
    "\n",
    "sns.set(style=\"ticks\")\n",
    "\n",
    "# Load the example dataset for Anscombe's quartet\n",
    "df = sns.load_dataset(\"anscombe\")\n",
    "\n",
    "type(df)"
   ]
  },
  {
   "cell_type": "code",
   "execution_count": null,
   "metadata": {
    "collapsed": true
   },
   "outputs": [],
   "source": [
    "# Show the results of a linear regression within each dataset\n",
    "sns.lmplot(x=\"x\", y=\"y\", col=\"dataset\", hue=\"dataset\", data=df,\n",
    "           col_wrap=2, ci=None, palette=\"muted\", size=4,\n",
    "           scatter_kws={\"s\": 50, \"alpha\": 1})\n",
    "plt.show()"
   ]
  },
  {
   "cell_type": "code",
   "execution_count": 9,
   "metadata": {
    "collapsed": false
   },
   "outputs": [],
   "source": [
    "#等高线 图\n",
    "import matplotlib.pyplot as plt\n",
    "import numpy as np\n",
    "dx = 0.01; dy = 0.01\n",
    "x = np.arange(-2.0,2.0,dx)\n",
    "y = np.arange(-2.0,2.0,dy)\n",
    "X,Y = np.meshgrid(x,y)\n",
    "def f(x,y):\n",
    "    return (1 - y**5 + x**5)*np.exp(-x**2-y**2)\n",
    "\n",
    "C = plt.contour(X,Y,f(X,Y),8,colors='black')\n",
    "plt.contourf(X,Y,f(X,Y),8)\n",
    "plt.clabel(C, inline=1, fontsize=10)\n",
    "plt.show()"
   ]
  },
  {
   "cell_type": "code",
   "execution_count": 11,
   "metadata": {
    "collapsed": true
   },
   "outputs": [],
   "source": [
    "dx = 0.01; dy = 0.01\n",
    "x = np.arange(-2.0,2.0,dx)\n",
    "y = np.arange(-2.0,2.0,dy)\n",
    "X,Y = np.meshgrid(x,y)\n",
    "\n",
    "C = plt.contour(X,Y,f(X,Y),8,colors='black')\n",
    "plt.contourf(X,Y,f(X,Y),8,cmap=plt.cm.hot)\n",
    "plt.clabel(C, inline=1, fontsize=10)\n",
    "\n",
    "plt.colorbar() # 数据标识\n",
    "\n",
    "plt.show()"
   ]
  },
  {
   "cell_type": "code",
   "execution_count": null,
   "metadata": {
    "collapsed": true
   },
   "outputs": [],
   "source": []
  }
 ],
 "metadata": {
  "anaconda-cloud": {},
  "kernelspec": {
   "display_name": "Python [Root]",
   "language": "python",
   "name": "Python [Root]"
  },
  "language_info": {
   "codemirror_mode": {
    "name": "ipython",
    "version": 2
   },
   "file_extension": ".py",
   "mimetype": "text/x-python",
   "name": "python",
   "nbconvert_exporter": "python",
   "pygments_lexer": "ipython2",
   "version": "2.7.12"
  }
 },
 "nbformat": 4,
 "nbformat_minor": 0
}
