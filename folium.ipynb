{
 "cells": [
  {
   "cell_type": "code",
   "execution_count": 1,
   "metadata": {
    "collapsed": false
   },
   "outputs": [
    {
     "name": "stderr",
     "output_type": "stream",
     "text": [
      "C:\\Anaconda2\\lib\\site-packages\\ipykernel\\__main__.py:4: FutureWarning: Map.create_map is deprecated. Use Map.save instead\n"
     ]
    }
   ],
   "source": [
    "# folium 牛逼的python图形库\n",
    "import folium\n",
    "map_osm = folium.Map(location=[45.5236, -122.6750])\n",
    "map_osm.create_map(path='osm.html')\n",
    "\n",
    "# file:///mnt/E/source/ipn/osm.html"
   ]
  },
  {
   "cell_type": "code",
   "execution_count": 2,
   "metadata": {
    "collapsed": false
   },
   "outputs": [
    {
     "name": "stderr",
     "output_type": "stream",
     "text": [
      "/home/alex/anaconda2/lib/python2.7/site-packages/ipykernel/__main__.py:4: FutureWarning: simple_marker is deprecated. Use add_children(Marker) instead\n",
      "/home/alex/anaconda2/lib/python2.7/site-packages/ipykernel/__main__.py:5: FutureWarning: click_for_marker is deprecated. Use add_children(ClickForMarker) instead\n",
      "/home/alex/anaconda2/lib/python2.7/site-packages/ipykernel/__main__.py:6: FutureWarning: Map.create_map is deprecated. Use Map.save instead\n"
     ]
    }
   ],
   "source": [
    "import folium\n",
    "map_4 = folium.Map(location=[46.8527, -121.7649], tiles='Stamen Terrain',\n",
    "                   zoom_start=13)\n",
    "map_4.simple_marker(location=[46.8354, -121.7325], popup='Camp Muir')\n",
    "map_4.click_for_marker(popup='Waypoint')\n",
    "map_4.create_map(path='mtrainier.html')"
   ]
  },
  {
   "cell_type": "code",
   "execution_count": 3,
   "metadata": {
    "collapsed": false
   },
   "outputs": [
    {
     "name": "stderr",
     "output_type": "stream",
     "text": [
      "/home/alex/anaconda2/lib/python2.7/site-packages/ipykernel/__main__.py:3: FutureWarning: polygon_marker is deprecated. Use add_children(RegularPolygonMarker) instead\n",
      "  app.launch_new_instance()\n",
      "/home/alex/anaconda2/lib/python2.7/site-packages/ipykernel/__main__.py:5: FutureWarning: polygon_marker is deprecated. Use add_children(RegularPolygonMarker) instead\n",
      "/home/alex/anaconda2/lib/python2.7/site-packages/ipykernel/__main__.py:7: FutureWarning: polygon_marker is deprecated. Use add_children(RegularPolygonMarker) instead\n",
      "/home/alex/anaconda2/lib/python2.7/site-packages/ipykernel/__main__.py:9: FutureWarning: polygon_marker is deprecated. Use add_children(RegularPolygonMarker) instead\n",
      "/home/alex/anaconda2/lib/python2.7/site-packages/ipykernel/__main__.py:10: FutureWarning: Map.create_map is deprecated. Use Map.save instead\n"
     ]
    }
   ],
   "source": [
    "map_5 = folium.Map(location=[45.5236, -122.6750], zoom_start=13)\n",
    "map_5.polygon_marker(location=[45.5012, -122.6655], popup='Ross Island Bridge',\n",
    "                     fill_color='#132b5e', num_sides=3, radius=10)\n",
    "map_5.polygon_marker(location=[45.5132, -122.6708], popup='Hawthorne Bridge',\n",
    "                     fill_color='#45647d', num_sides=4, radius=10)\n",
    "map_5.polygon_marker(location=[45.5275, -122.6692], popup='Steel Bridge',\n",
    "                     fill_color='#769d96', num_sides=6, radius=10)\n",
    "map_5.polygon_marker(location=[45.5318, -122.6745], popup='Broadway Bridge',\n",
    "                     fill_color='#769d96', num_sides=8, radius=10)\n",
    "map_5.create_map(path='bridges.html')"
   ]
  },
  {
   "cell_type": "code",
   "execution_count": 2,
   "metadata": {
    "collapsed": false
   },
   "outputs": [
    {
     "name": "stderr",
     "output_type": "stream",
     "text": [
      "C:\\Anaconda2\\lib\\site-packages\\ipykernel\\__main__.py:4: FutureWarning: Map.create_map is deprecated. Use Map.save instead\n"
     ]
    }
   ],
   "source": [
    "# 北京\n",
    "import folium\n",
    "map_osm = folium.Map(location=[41.03, 117.30])\n",
    "map_osm.create_map(path='beijing.html')\n",
    "\n",
    "# file:///mnt/E/source/ipn/osm.html"
   ]
  },
  {
   "cell_type": "code",
   "execution_count": null,
   "metadata": {
    "collapsed": true
   },
   "outputs": [],
   "source": []
  }
 ],
 "metadata": {
  "kernelspec": {
   "display_name": "Python 2",
   "language": "python",
   "name": "python2"
  },
  "language_info": {
   "codemirror_mode": {
    "name": "ipython",
    "version": 2
   },
   "file_extension": ".py",
   "mimetype": "text/x-python",
   "name": "python",
   "nbconvert_exporter": "python",
   "pygments_lexer": "ipython2",
   "version": "2.7.11"
  }
 },
 "nbformat": 4,
 "nbformat_minor": 0
}
